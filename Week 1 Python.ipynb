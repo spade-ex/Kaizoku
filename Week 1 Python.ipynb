{
 "cells": [
  {
   "cell_type": "markdown",
   "id": "422fb958",
   "metadata": {},
   "source": [
    "# Introduction to Jupyter Notebook"
   ]
  },
  {
   "cell_type": "markdown",
   "id": "2b96a0de",
   "metadata": {},
   "source": [
    "## Day one python class on how to use markdown, print hello world,perform simple calculation etc\n"
   ]
  },
  {
   "cell_type": "markdown",
   "id": "cc3aadbf",
   "metadata": {},
   "source": [
    "## List in markdown\n",
    "1. learn markdown\n",
    "2. write code \n",
    "3. save the notebook\n",
    "\n",
    "## Bulleted list\n",
    "\n",
    "- Python basic\n",
    "- jupyter feature\n",
    "- Markdown "
   ]
  },
  {
   "cell_type": "code",
   "execution_count": 1,
   "id": "a838c6de",
   "metadata": {},
   "outputs": [
    {
     "name": "stdout",
     "output_type": "stream",
     "text": [
      "Hello, World\n"
     ]
    }
   ],
   "source": [
    "print(\"Hello, World\")\n"
   ]
  },
  {
   "cell_type": "markdown",
   "id": "b6369797",
   "metadata": {},
   "source": [
    "![python image](https://upload.wikimedia.org/wikipedia/commons/3/31/Python-logo.png)\n"
   ]
  },
  {
   "cell_type": "markdown",
   "id": "1257fbb4",
   "metadata": {},
   "source": [
    "[Click here to visit python community](https://www.python.org/community/)\n"
   ]
  },
  {
   "cell_type": "code",
   "execution_count": 3,
   "id": "50368b1c",
   "metadata": {},
   "outputs": [
    {
     "name": "stdout",
     "output_type": "stream",
     "text": [
      "Addition: 15\n",
      "Subtraction: 5\n"
     ]
    }
   ],
   "source": [
    "a = 10\n",
    "b = 5\n",
    "\n",
    "# Addition\n",
    "sum = a + b\n",
    "print(\"Addition:\", sum)\n",
    "\n",
    "# Subtraction\n",
    "sub = a - b\n",
    "print(\"Subtraction:\", sub)\n"
   ]
  },
  {
   "cell_type": "code",
   "execution_count": 4,
   "id": "3ee39c97",
   "metadata": {},
   "outputs": [
    {
     "name": "stdout",
     "output_type": "stream",
     "text": [
      "Help on built-in function print in module builtins:\n",
      "\n",
      "print(...)\n",
      "    print(value, ..., sep=' ', end='\\n', file=sys.stdout, flush=False)\n",
      "    \n",
      "    Prints the values to a stream, or to sys.stdout by default.\n",
      "    Optional keyword arguments:\n",
      "    file:  a file-like object (stream); defaults to the current sys.stdout.\n",
      "    sep:   string inserted between values, default a space.\n",
      "    end:   string appended after the last value, default a newline.\n",
      "    flush: whether to forcibly flush the stream.\n",
      "\n"
     ]
    }
   ],
   "source": [
    "help(print)\n"
   ]
  },
  {
   "cell_type": "code",
   "execution_count": 8,
   "id": "42f9df03",
   "metadata": {},
   "outputs": [
    {
     "name": "stdout",
     "output_type": "stream",
     "text": [
      "7\n",
      "2\n"
     ]
    }
   ],
   "source": [
    "# This code demonstrates basic arithmetic operations\n",
    "# Then, we calculate their sum and difference\n",
    "print(2 + 5)\n",
    "print(5 - 3)\n",
    "\n",
    "\n"
   ]
  },
  {
   "cell_type": "code",
   "execution_count": 11,
   "id": "9ee2a0a6",
   "metadata": {},
   "outputs": [
    {
     "name": "stdout",
     "output_type": "stream",
     "text": [
      "Wall time: 0 ns\n",
      "a\t b\t result\t sub\t sub_result\t sum\t sum_result\t \n"
     ]
    }
   ],
   "source": [
    "a = 100\n",
    "b = 300\n",
    "\n",
    "# Measure execution time\n",
    "%time result = a + b\n",
    "\n",
    "# List all variabe\n",
    "%who\n"
   ]
  },
  {
   "cell_type": "markdown",
   "id": "dfc6d680",
   "metadata": {},
   "source": [
    "### Personal Information\n",
    "\n",
    "| Name     | Age | Profession  |\n",
    "|----------|-----|-------------|\n",
    "| Fatee Abu | 19  | Data Analyst|\n",
    "| Abdul Hakeem|30 | Doctor|\n"
   ]
  },
  {
   "cell_type": "markdown",
   "id": "37c23df5",
   "metadata": {},
   "source": [
    "## Data Types in Python"
   ]
  },
  {
   "cell_type": "code",
   "execution_count": 12,
   "id": "8fcc48b1",
   "metadata": {},
   "outputs": [
    {
     "data": {
      "text/plain": [
       "int"
      ]
     },
     "execution_count": 12,
     "metadata": {},
     "output_type": "execute_result"
    }
   ],
   "source": [
    "type(42)\n"
   ]
  },
  {
   "cell_type": "code",
   "execution_count": 13,
   "id": "8ff76f8a",
   "metadata": {},
   "outputs": [
    {
     "data": {
      "text/plain": [
       "float"
      ]
     },
     "execution_count": 13,
     "metadata": {},
     "output_type": "execute_result"
    }
   ],
   "source": [
    "type(3.14)"
   ]
  },
  {
   "cell_type": "code",
   "execution_count": 14,
   "id": "8e8eeeb9",
   "metadata": {},
   "outputs": [
    {
     "data": {
      "text/plain": [
       "str"
      ]
     },
     "execution_count": 14,
     "metadata": {},
     "output_type": "execute_result"
    }
   ],
   "source": [
    "type(\"python\")\n"
   ]
  },
  {
   "cell_type": "code",
   "execution_count": 17,
   "id": "2d7c1a30",
   "metadata": {},
   "outputs": [
    {
     "data": {
      "text/plain": [
       "list"
      ]
     },
     "execution_count": 17,
     "metadata": {},
     "output_type": "execute_result"
    }
   ],
   "source": [
    "type([1,2,3])"
   ]
  },
  {
   "cell_type": "code",
   "execution_count": 21,
   "id": "90cf549d",
   "metadata": {},
   "outputs": [
    {
     "data": {
      "text/plain": [
       "dict"
      ]
     },
     "execution_count": 21,
     "metadata": {},
     "output_type": "execute_result"
    }
   ],
   "source": [
    "type({\"name\": \"John\", \"age\": 30})"
   ]
  },
  {
   "cell_type": "code",
   "execution_count": 25,
   "id": "ae528fda",
   "metadata": {},
   "outputs": [
    {
     "data": {
      "text/plain": [
       "str"
      ]
     },
     "execution_count": 25,
     "metadata": {},
     "output_type": "execute_result"
    }
   ],
   "source": [
    "a = 42\n",
    "\n",
    "a = str(42)\n",
    "\n",
    "type(a)\n"
   ]
  },
  {
   "cell_type": "code",
   "execution_count": 26,
   "id": "787361df",
   "metadata": {},
   "outputs": [
    {
     "data": {
      "text/plain": [
       "float"
      ]
     },
     "execution_count": 26,
     "metadata": {},
     "output_type": "execute_result"
    }
   ],
   "source": [
    "b = 42\n",
    "\n",
    "b = float(42)\n",
    "\n",
    "type(b)"
   ]
  },
  {
   "cell_type": "code",
   "execution_count": 28,
   "id": "e7a108bc",
   "metadata": {},
   "outputs": [
    {
     "name": "stdout",
     "output_type": "stream",
     "text": [
      "['Banana', 'Mango', ' Apple', 'Orange ', 'Pawpaw']\n"
     ]
    }
   ],
   "source": [
    "favorite_friuts = [\"Banana\", \"Mango\" , \" Apple\", \"Orange \", \"Pawpaw\"]\n",
    "print(favorite_friuts)"
   ]
  },
  {
   "cell_type": "code",
   "execution_count": 29,
   "id": "038bb1f5",
   "metadata": {},
   "outputs": [
    {
     "data": {
      "text/plain": [
       "list"
      ]
     },
     "execution_count": 29,
     "metadata": {},
     "output_type": "execute_result"
    }
   ],
   "source": [
    "type(favorite_friuts)"
   ]
  },
  {
   "cell_type": "code",
   "execution_count": 30,
   "id": "7bf6100e",
   "metadata": {},
   "outputs": [
    {
     "name": "stdout",
     "output_type": "stream",
     "text": [
      "The variable is of type str.\n"
     ]
    }
   ],
   "source": [
    "name = \"Abbdulhakeem\"\n",
    "\n",
    "if type(name) is str:\n",
    "    print(\"The variable is of type str.\")\n",
    "else:\n",
    "    print(\"The variable is not of type str.\")"
   ]
  },
  {
   "cell_type": "code",
   "execution_count": 33,
   "id": "58323687",
   "metadata": {},
   "outputs": [],
   "source": [
    "my_tuple = (\"fatima\", 3.0, \"black\")"
   ]
  },
  {
   "cell_type": "code",
   "execution_count": 34,
   "id": "30692cb0",
   "metadata": {},
   "outputs": [
    {
     "name": "stdout",
     "output_type": "stream",
     "text": [
      "3.0\n"
     ]
    }
   ],
   "source": [
    "print(my_tuple[1])"
   ]
  },
  {
   "cell_type": "code",
   "execution_count": 4,
   "id": "f73f4a27",
   "metadata": {},
   "outputs": [
    {
     "name": "stdout",
     "output_type": "stream",
     "text": [
      "The value of the key 'age' is: 25\n"
     ]
    }
   ],
   "source": [
    "info = {\"name\": \"Fatima\", \"age\": 25, \"city\": \"Kaduna\"}\n",
    "  \n",
    "value = info[\"age\"]\n",
    "print(f\"The value of the key 'age' is: {value}\")    \n"
   ]
  },
  {
   "cell_type": "code",
   "execution_count": 8,
   "id": "3710ddf4",
   "metadata": {},
   "outputs": [
    {
     "name": "stdout",
     "output_type": "stream",
     "text": [
      "<class 'int'>\n",
      "<class 'float'>\n",
      "<class 'str'>\n",
      "<class 'list'>\n"
     ]
    }
   ],
   "source": [
    "a = 10\n",
    "b = 5.5\n",
    "c = \"Hello\"\n",
    "d = [1, 2, 3]\n",
    "\n",
    "# Using type() to check data types\n",
    "\n",
    "print(type(a))\n",
    "print(type(b))\n",
    "print(type(c))\n",
    "print(type(d))"
   ]
  },
  {
   "cell_type": "code",
   "execution_count": 10,
   "id": "5a2c8a81",
   "metadata": {},
   "outputs": [
    {
     "name": "stdout",
     "output_type": "stream",
     "text": [
      "Original float value: 7.9\n",
      "After typecasting to integer: 7\n"
     ]
    }
   ],
   "source": [
    "a = 7.9\n",
    "\n",
    "int_num = int(a)\n",
    "\n",
    "print(f\"Original float value: {a}\")\n",
    "print(f\"After typecasting to integer: {int_num}\")\n",
    "\n",
    "# Observation: The decimal part is truncated, not rounded."
   ]
  },
  {
   "cell_type": "code",
   "execution_count": 17,
   "id": "0d5ea891",
   "metadata": {},
   "outputs": [
    {
     "name": "stdout",
     "output_type": "stream",
     "text": [
      "Enter something: fatee\n",
      "The input is a string.\n"
     ]
    }
   ],
   "source": [
    "user_input = input(\"Enter something: \")\n",
    "\n",
    "# Check if it's a number or a string\n",
    "if user_input.isdigit():\n",
    "    print(\"The input is a number.\")\n",
    "else:\n",
    "    print(\"The input is a string.\")"
   ]
  },
  {
   "cell_type": "code",
   "execution_count": 18,
   "id": "9b60eccc",
   "metadata": {},
   "outputs": [
    {
     "name": "stdout",
     "output_type": "stream",
     "text": [
      "Length of the list: 4\n",
      "Length of the tuple: 3\n",
      "Length of the dictionary: 3\n"
     ]
    }
   ],
   "source": [
    "my_list = [1, 2, 3, 4]\n",
    "my_tuple = (10, 20, 30)\n",
    "my_dict = {\"a\": 1, \"b\": 2, \"c\": 3}\n",
    " \n",
    "list_length = len(my_list)\n",
    "tuple_length = len(my_tuple)\n",
    "dict_length = len(my_dict)\n",
    "\n",
    "print(f\"Length of the list: {list_length}\")\n",
    "print(f\"Length of the tuple: {tuple_length}\")\n",
    "print(f\"Length of the dictionary: {dict_length}\")   "
   ]
  },
  {
   "cell_type": "markdown",
   "id": "e279f0df",
   "metadata": {},
   "source": [
    "## Expressions and Variables\n",
    "\n",
    "\n"
   ]
  },
  {
   "cell_type": "code",
   "execution_count": 20,
   "id": "7ac9f1f0",
   "metadata": {},
   "outputs": [
    {
     "name": "stdout",
     "output_type": "stream",
     "text": [
      "the sum is : 19\n"
     ]
    }
   ],
   "source": [
    "x = 10\n",
    "y = 3\n",
    "z = 6\n",
    "\n",
    "sum = x+y+z\n",
    "print(f\"the sum is : {sum}\")"
   ]
  },
  {
   "cell_type": "code",
   "execution_count": 23,
   "id": "0c039470",
   "metadata": {},
   "outputs": [
    {
     "name": "stdout",
     "output_type": "stream",
     "text": [
      "before swapping: a = 5, b = 10\n",
      "after swapping: a = 10, b = 5\n"
     ]
    }
   ],
   "source": [
    "a = 5\n",
    "b = 10\n",
    "\n",
    "print(f\"before swapping: a = {a}, b = {b}\")\n",
    "\n",
    "temp = a\n",
    "\n",
    "a = b\n",
    "\n",
    "b = temp\n",
    "\n",
    "print(f\"after swapping: a = {a}, b = {b}\")"
   ]
  },
  {
   "cell_type": "code",
   "execution_count": 25,
   "id": "93e1c63d",
   "metadata": {},
   "outputs": [
    {
     "name": "stdout",
     "output_type": "stream",
     "text": [
      "my name is Aisha Ibrahim\n"
     ]
    }
   ],
   "source": [
    "Frist_name = \"Aisha\"\n",
    "Last_name = \"Ibrahim\"\n",
    "\n",
    "Full_name = \"my name is\" +\" \" + Frist_name + \" \" + Last_name\n",
    "print(Full_name)"
   ]
  },
  {
   "cell_type": "code",
   "execution_count": 26,
   "id": "84240a24",
   "metadata": {},
   "outputs": [
    {
     "name": "stdout",
     "output_type": "stream",
     "text": [
      "Initial value of x: 10\n",
      "After x += 5: 15\n",
      "After x -= 3: 12\n",
      "After x *= 2: 24\n",
      "After x /= 4: 6.0\n",
      "After x %= 3: 0.0\n"
     ]
    }
   ],
   "source": [
    "# Initial value\n",
    "x = 10\n",
    "print(f\"Initial value of x: {x}\")\n",
    "\n",
    "# Using compound assignment operators\n",
    "x += 5  # Equivalent to x = x + 5\n",
    "print(f\"After x += 5: {x}\")\n",
    "\n",
    "x -= 3  # Equivalent to x = x - 3\n",
    "print(f\"After x -= 3: {x}\")\n",
    "\n",
    "x *= 2  # Equivalent to x = x * 2\n",
    "print(f\"After x *= 2: {x}\")\n",
    "\n",
    "x /= 4  # Equivalent to x = x / 4\n",
    "print(f\"After x /= 4: {x}\")\n",
    "\n",
    "x %= 3  # Equivalent to x = x % 3\n",
    "print(f\"After x %= 3: {x}\")\n"
   ]
  },
  {
   "cell_type": "code",
   "execution_count": 11,
   "id": "bd83ed55",
   "metadata": {},
   "outputs": [
    {
     "name": "stdout",
     "output_type": "stream",
     "text": [
      "The area is : 78.53981633974483\n"
     ]
    }
   ],
   "source": [
    "import math\n",
    "\n",
    "# pi*r^2 = area\n",
    "radius = 5  \n",
    "area = math.pi * radius**2\n",
    "print(f\"The area is : {area}\")"
   ]
  },
  {
   "cell_type": "code",
   "execution_count": 14,
   "id": "2f067f46",
   "metadata": {},
   "outputs": [
    {
     "name": "stdout",
     "output_type": "stream",
     "text": [
      "The roots are 4.0 and 3.0\n"
     ]
    }
   ],
   "source": [
    "# ax^2 + bx + c quadratic equation \n",
    "\n",
    "a = 1\n",
    "b = -7\n",
    "c = 12\n",
    "\n",
    "# Discriminant\n",
    "discriminant = b**2 - 4*a*c\n",
    "\n",
    "# Roots\n",
    "if discriminant >= 0:\n",
    "    root1 = (-b + math.sqrt(discriminant)) / (2*a)\n",
    "    root2 = (-b - math.sqrt(discriminant)) / (2*a)\n",
    "    print(f\"The roots are {root1} and {root2}\")\n",
    "else:\n",
    "    print(\"The equation has no real roots\")"
   ]
  },
  {
   "cell_type": "code",
   "execution_count": 15,
   "id": "ee065c61",
   "metadata": {},
   "outputs": [
    {
     "name": "stdout",
     "output_type": "stream",
     "text": [
      "The memory location of x is 2180486688336\n"
     ]
    }
   ],
   "source": [
    "x = 42\n",
    "print(f\"The memory location of x is {id(x)}\")"
   ]
  },
  {
   "cell_type": "code",
   "execution_count": 18,
   "id": "883610da",
   "metadata": {},
   "outputs": [
    {
     "name": "stdout",
     "output_type": "stream",
     "text": [
      "2180486687728\n"
     ]
    }
   ],
   "source": [
    "# or use this format to print the memory location using id()b\n",
    "x = 23\n",
    "print (id(x))"
   ]
  },
  {
   "cell_type": "code",
   "execution_count": 23,
   "id": "746c37c3",
   "metadata": {},
   "outputs": [
    {
     "name": "stdout",
     "output_type": "stream",
     "text": [
      "Hi, Fatima Good Morning\n"
     ]
    }
   ],
   "source": [
    "name = \"Fatima\"\n",
    "print(f\"Hi, {name} Good Morning\")"
   ]
  },
  {
   "cell_type": "code",
   "execution_count": 26,
   "id": "bd26ed5a",
   "metadata": {},
   "outputs": [
    {
     "name": "stdout",
     "output_type": "stream",
     "text": [
      "True\n"
     ]
    }
   ],
   "source": [
    "a = 2\n",
    "b = 5\n",
    "c = 6\n",
    "\n",
    "result = (a + b > c) and (c - 4 == a)\n",
    "\n",
    "print(result)"
   ]
  },
  {
   "cell_type": "code",
   "execution_count": 27,
   "id": "454c2367",
   "metadata": {},
   "outputs": [
    {
     "name": "stdout",
     "output_type": "stream",
     "text": [
      "81\n"
     ]
    }
   ],
   "source": [
    "a = 4\n",
    "b = 5\n",
    "\n",
    "c = (a + b) ** 2\n",
    "\n",
    "print(c)"
   ]
  },
  {
   "cell_type": "markdown",
   "id": "98b5455f",
   "metadata": {},
   "source": [
    "## Day 2"
   ]
  },
  {
   "cell_type": "markdown",
   "id": "fb90146d",
   "metadata": {},
   "source": [
    "## String Operations\n"
   ]
  },
  {
   "cell_type": "code",
   "execution_count": 33,
   "id": "05296020",
   "metadata": {},
   "outputs": [
    {
     "name": "stdout",
     "output_type": "stream",
     "text": [
      "hello python\n"
     ]
    }
   ],
   "source": [
    "result = \"hello\" +\" \" + \"python\"\n",
    "\n",
    "print(result)"
   ]
  },
  {
   "cell_type": "code",
   "execution_count": 34,
   "id": "fab84705",
   "metadata": {},
   "outputs": [
    {
     "name": "stdout",
     "output_type": "stream",
     "text": [
      "24\n"
     ]
    }
   ],
   "source": [
    "learn_len = \"Learn to code in python!\"\n",
    "\n",
    "length = len(learn_len)\n",
    "\n",
    "print(length)"
   ]
  },
  {
   "cell_type": "code",
   "execution_count": 44,
   "id": "96cf91ef",
   "metadata": {},
   "outputs": [
    {
     "name": "stdout",
     "output_type": "stream",
     "text": [
      "Program\n"
     ]
    }
   ],
   "source": [
    "string = \"Python Programming\"\n",
    "\n",
    "program = string[7:14]\n",
    "\n",
    "print(program)"
   ]
  },
  {
   "cell_type": "code",
   "execution_count": 46,
   "id": "d1215f39",
   "metadata": {},
   "outputs": [
    {
     "name": "stdout",
     "output_type": "stream",
     "text": [
      "PYTHON ROCKS!\n",
      "python rocks!\n",
      "Python Rocks!\n"
     ]
    }
   ],
   "source": [
    "string = \"Python Rocks!\"\n",
    "\n",
    "upper_case = string.upper()\n",
    "lower_case = string.lower()\n",
    "title_case = string.title()\n",
    "\n",
    "print(upper_case)\n",
    "print(lower_case)\n",
    "print(title_case)"
   ]
  },
  {
   "cell_type": "code",
   "execution_count": 47,
   "id": "a3c5486f",
   "metadata": {},
   "outputs": [
    {
     "name": "stdout",
     "output_type": "stream",
     "text": [
      "Python is not good\n"
     ]
    }
   ],
   "source": [
    "string = \"Python is not bad\"\n",
    "modified_string = string.replace(\"bad\", \"good\")\n",
    "\n",
    "print(modified_string)"
   ]
  },
  {
   "cell_type": "code",
   "execution_count": 48,
   "id": "27c0f3f1",
   "metadata": {},
   "outputs": [
    {
     "name": "stdout",
     "output_type": "stream",
     "text": [
      "False\n"
     ]
    }
   ],
   "source": [
    "string = \"Coding is fun with Python\"\n",
    "substring = \"code\"\n",
    "exists = substring.lower() in string.lower()\n",
    "print(exists )"
   ]
  },
  {
   "cell_type": "code",
   "execution_count": 49,
   "id": "8d542e3e",
   "metadata": {},
   "outputs": [
    {
     "name": "stdout",
     "output_type": "stream",
     "text": [
      "nohtyP\n"
     ]
    }
   ],
   "source": [
    "string = \"Python\"\n",
    "reversed_string = string[::-1]\n",
    "\n",
    "print(reversed_string)"
   ]
  },
  {
   "cell_type": "code",
   "execution_count": 50,
   "id": "f109d206",
   "metadata": {},
   "outputs": [
    {
     "name": "stdout",
     "output_type": "stream",
     "text": [
      "['Learn', 'Python', 'the', 'easy', 'way']\n",
      "Learn-Python-the-easy-way\n"
     ]
    }
   ],
   "source": [
    "string = \"Learn Python the easy way\"\n",
    "words = string.split()\n",
    "joined_string = \"-\".join(words)\n",
    "\n",
    "print(words)\n",
    "print(joined_string)"
   ]
  },
  {
   "cell_type": "code",
   "execution_count": 51,
   "id": "5013ca2f",
   "metadata": {},
   "outputs": [
    {
     "name": "stdout",
     "output_type": "stream",
     "text": [
      "6\n"
     ]
    }
   ],
   "source": [
    "string = \"banana apple avocado\"\n",
    "count = string.count(\"a\")\n",
    "\n",
    "print(count)"
   ]
  },
  {
   "cell_type": "code",
   "execution_count": 52,
   "id": "226c4151",
   "metadata": {},
   "outputs": [
    {
     "name": "stdout",
     "output_type": "stream",
     "text": [
      "I scored 95 in Python which is awesome !\n"
     ]
    }
   ],
   "source": [
    "core = 95\n",
    "language = \"Python\"\n",
    "\n",
    "print(f\"I scored {core} in {language} which is awesome !\")"
   ]
  },
  {
   "cell_type": "markdown",
   "id": "1342537e",
   "metadata": {},
   "source": [
    " ## Lists/Tuples"
   ]
  },
  {
   "cell_type": "code",
   "execution_count": 58,
   "id": "249f7df7",
   "metadata": {},
   "outputs": [
    {
     "name": "stdout",
     "output_type": "stream",
     "text": [
      "The first word is : apple\n",
      "The last word is : elderberry\n"
     ]
    }
   ],
   "source": [
    "fruit = [\"apple\", \"banana\", \"cherry\", \"date\", \"elderberry\"]\n",
    "\n",
    "print(f\"The first word is : {fruit[0]}\")\n",
    "print(f\"The last word is : {fruit[-1]}\")"
   ]
  },
  {
   "cell_type": "code",
   "execution_count": 67,
   "id": "66bc4f8c",
   "metadata": {},
   "outputs": [],
   "source": [
    "fruits = [\"apple\", \"banana\", \"cherry\", \"date\", \"elderberry\"]"
   ]
  },
  {
   "cell_type": "code",
   "execution_count": 68,
   "id": "d98d9e18",
   "metadata": {},
   "outputs": [],
   "source": [
    "fruits.append(\"fig\")\n",
    "fruits.remove(\"cherry\")\n"
   ]
  },
  {
   "cell_type": "code",
   "execution_count": 73,
   "id": "24cb753e",
   "metadata": {},
   "outputs": [
    {
     "name": "stdout",
     "output_type": "stream",
     "text": [
      "modified list : ['apple', 'banana', 'date', 'elderberry', 'fig']\n"
     ]
    }
   ],
   "source": [
    "banana_index = fruits.index(\"banana\")\n",
    "\n",
    "fruit[banana_index] = \"blueberry\"\n",
    "\n",
    "print(f\"modified list : {fruits}\")"
   ]
  },
  {
   "cell_type": "code",
   "execution_count": 76,
   "id": "070913c6",
   "metadata": {},
   "outputs": [
    {
     "name": "stdout",
     "output_type": "stream",
     "text": [
      "Sorted and reversed list: ['fig', 'elderberry', 'date', 'blueberry', 'apple']\n"
     ]
    }
   ],
   "source": [
    "fruits = [\"apple\", \"blueberry\", \"date\", \"elderberry\", \"fig\"]\n",
    "\n",
    "fruits.sort()\n",
    "fruits.reverse()\n",
    "\n",
    "print(f\"Sorted and reversed list: {fruits}\")"
   ]
  },
  {
   "cell_type": "code",
   "execution_count": 77,
   "id": "60497d6f",
   "metadata": {},
   "outputs": [
    {
     "name": "stdout",
     "output_type": "stream",
     "text": [
      "First three languages: ['Python', 'Java', 'C++']\n"
     ]
    }
   ],
   "source": [
    "languages = [\"Python\", \"Java\", \"C++\", \"Ruby\", \"Go\"]\n",
    "first_three = languages[:3]\n",
    "print(f\"First three languages: {first_three}\")"
   ]
  },
  {
   "cell_type": "code",
   "execution_count": 79,
   "id": "3576c502",
   "metadata": {},
   "outputs": [
    {
     "name": "stdout",
     "output_type": "stream",
     "text": [
      "the total sum is : 150\n"
     ]
    }
   ],
   "source": [
    "numbers = [10, 20, 30, 40, 50]\n",
    "\n",
    "total_sum = sum(numbers)\n",
    "\n",
    "print(f\"the total sum is : {total_sum}\")"
   ]
  },
  {
   "cell_type": "code",
   "execution_count": 81,
   "id": "3a377f16",
   "metadata": {},
   "outputs": [
    {
     "name": "stdout",
     "output_type": "stream",
     "text": [
      "the maximun number is: 55\n",
      "the minimun number is: 15\n"
     ]
    }
   ],
   "source": [
    "num = (15, 25, 35, 45, 55)\n",
    "\n",
    "max_num = max(num)\n",
    "\n",
    "min_num = min(num)\n",
    "\n",
    "print(f\"the maximun number is: {max_num}\")\n",
    "print(f\"the minimun number is: {min_num}\")"
   ]
  },
  {
   "cell_type": "code",
   "execution_count": 82,
   "id": "4bd6c625",
   "metadata": {},
   "outputs": [
    {
     "name": "stdout",
     "output_type": "stream",
     "text": [
      "<class 'tuple'>\n"
     ]
    }
   ],
   "source": [
    "color = [\"red\", \"green\", \"blue\"]\n",
    "\n",
    "color_tuple = tuple(color)\n",
    "\n",
    "print(type(color_tuple))\n",
    "\n"
   ]
  },
  {
   "cell_type": "code",
   "execution_count": 83,
   "id": "ce73cc46",
   "metadata": {},
   "outputs": [
    {
     "name": "stdout",
     "output_type": "stream",
     "text": [
      "Unpacked values: a = 1, b = 2, c = 3\n"
     ]
    }
   ],
   "source": [
    "my_tuple = (1, 2, 3)\n",
    "a, b, c = my_tuple\n",
    "print(f\"Unpacked values: a = {a}, b = {b}, c = {c}\")"
   ]
  },
  {
   "cell_type": "code",
   "execution_count": 84,
   "id": "e590afbb",
   "metadata": {},
   "outputs": [
    {
     "name": "stdout",
     "output_type": "stream",
     "text": [
      "Squares of numbers from 1 to 10: [1, 4, 9, 16, 25, 36, 49, 64, 81, 100]\n"
     ]
    }
   ],
   "source": [
    "squares = [x**2 for x in range(1, 11)]\n",
    "print(f\"Squares of numbers from 1 to 10: {squares}\")"
   ]
  },
  {
   "cell_type": "code",
   "execution_count": 85,
   "id": "880a63e5",
   "metadata": {
    "scrolled": true
   },
   "outputs": [
    {
     "name": "stdout",
     "output_type": "stream",
     "text": [
      "The index of 'C++' is: 2\n"
     ]
    }
   ],
   "source": [
    "languages = [\"Python\", \"Java\", \"C++\", \"Ruby\", \"Go\"]\n",
    "index_of_c = languages.index(\"C++\")\n",
    "print(f\"The index of 'C++' is: {index_of_c}\")"
   ]
  },
  {
   "cell_type": "markdown",
   "id": "5862a792",
   "metadata": {},
   "source": [
    "## Dictionaries"
   ]
  },
  {
   "cell_type": "code",
   "execution_count": 1,
   "id": "99d07a55",
   "metadata": {},
   "outputs": [
    {
     "name": "stdout",
     "output_type": "stream",
     "text": [
      "{'name': 'Alice', 'age': 25, 'city': 'New York'}\n"
     ]
    }
   ],
   "source": [
    "# Create a dictionary\n",
    "person = {\"name\": \"Alice\", \"age\": 25, \"city\": \"New York\"}\n",
    "print(person)"
   ]
  },
  {
   "cell_type": "code",
   "execution_count": 2,
   "id": "f43f2b2d",
   "metadata": {},
   "outputs": [
    {
     "name": "stdout",
     "output_type": "stream",
     "text": [
      "City: New York\n"
     ]
    }
   ],
   "source": [
    "# Access and print the value of \"city\"\n",
    "city_value = person[\"city\"]\n",
    "print(\"City:\", city_value)"
   ]
  },
  {
   "cell_type": "code",
   "execution_count": 3,
   "id": "c8f0f6af",
   "metadata": {},
   "outputs": [
    {
     "name": "stdout",
     "output_type": "stream",
     "text": [
      "{'name': 'Alice', 'age': 30, 'city': 'New York'}\n"
     ]
    }
   ],
   "source": [
    "# Update the value of \"age\"\n",
    "person[\"age\"] = 30\n",
    "print(person) "
   ]
  },
  {
   "cell_type": "code",
   "execution_count": 4,
   "id": "a6100081",
   "metadata": {},
   "outputs": [
    {
     "name": "stdout",
     "output_type": "stream",
     "text": [
      "{'name': 'Alice', 'age': 30, 'city': 'New York', 'country': 'USA'}\n"
     ]
    }
   ],
   "source": [
    "# Add a new key \"country\" with value \"USA\"\n",
    "person[\"country\"] = \"USA\"\n",
    "print(person)"
   ]
  },
  {
   "cell_type": "code",
   "execution_count": 5,
   "id": "9d692235",
   "metadata": {},
   "outputs": [
    {
     "name": "stdout",
     "output_type": "stream",
     "text": [
      "{'name': 'Alice', 'age': 30, 'country': 'USA'}\n"
     ]
    }
   ],
   "source": [
    "# Remove the \"city\" key\n",
    "person.pop(\"city\")\n",
    "print(person)"
   ]
  },
  {
   "cell_type": "code",
   "execution_count": 6,
   "id": "c8a087d6",
   "metadata": {},
   "outputs": [
    {
     "name": "stdout",
     "output_type": "stream",
     "text": [
      "Key 'name' exists.\n"
     ]
    }
   ],
   "source": [
    "# Check if the key \"name\" exists\n",
    "if \"name\" in person:\n",
    "    print(\"Key 'name' exists.\")\n",
    "else:\n",
    "    print(\"Key 'name' does not exist.\")"
   ]
  },
  {
   "cell_type": "code",
   "execution_count": 7,
   "id": "1c7e22e5",
   "metadata": {},
   "outputs": [
    {
     "name": "stdout",
     "output_type": "stream",
     "text": [
      "name: Alice\n",
      "age: 30\n",
      "country: USA\n"
     ]
    }
   ],
   "source": [
    "# Iterate over the dictionary\n",
    "for key, value in person.items():\n",
    "    print(f\"{key}: {value}\")"
   ]
  },
  {
   "cell_type": "code",
   "execution_count": 8,
   "id": "792260fb",
   "metadata": {},
   "outputs": [
    {
     "name": "stdout",
     "output_type": "stream",
     "text": [
      "{'x': 1, 'y': 3, 'z': 4}\n"
     ]
    }
   ],
   "source": [
    "# Merge two dictionaries\n",
    "dict1 = {\"x\": 1, \"y\": 2}\n",
    "dict2 = {\"y\": 3, \"z\": 4}\n",
    "merged_dict = {**dict1, **dict2}\n",
    "print(merged_dict)"
   ]
  },
  {
   "cell_type": "code",
   "execution_count": 9,
   "id": "df376c33",
   "metadata": {},
   "outputs": [
    {
     "name": "stdout",
     "output_type": "stream",
     "text": [
      "Keys: dict_keys(['Python', 'Java', 'C++'])\n",
      "Values: dict_values([1991, 1995, 1985])\n"
     ]
    }
   ],
   "source": [
    "# Print keys and values\n",
    "languages = {\"Python\": 1991, \"Java\": 1995, \"C++\": 1985}\n",
    "print(\"Keys:\", languages.keys())       \n",
    "print(\"Values:\", languages.values())  "
   ]
  },
  {
   "cell_type": "code",
   "execution_count": 10,
   "id": "b12fb0d0",
   "metadata": {},
   "outputs": [
    {
     "name": "stdout",
     "output_type": "stream",
     "text": [
      "{1: 1, 2: 4, 3: 9, 4: 16, 5: 25}\n"
     ]
    }
   ],
   "source": [
    "# Create a dictionary using comprehension\n",
    "squares = {x: x**2 for x in range(1, 6)}\n",
    "print(squares)"
   ]
  },
  {
   "cell_type": "markdown",
   "id": "23833192",
   "metadata": {},
   "source": [
    "## SETS"
   ]
  },
  {
   "cell_type": "code",
   "execution_count": 11,
   "id": "a9acf0a0",
   "metadata": {},
   "outputs": [
    {
     "name": "stdout",
     "output_type": "stream",
     "text": [
      "Set of colors: {'blue', 'red', 'green'}\n"
     ]
    }
   ],
   "source": [
    "# 1. Create and Print Set\n",
    "colors = {\"red\", \"green\", \"blue\"}\n",
    "print(\"Set of colors:\", colors)"
   ]
  },
  {
   "cell_type": "code",
   "execution_count": 12,
   "id": "8b8f2ab0",
   "metadata": {},
   "outputs": [
    {
     "name": "stdout",
     "output_type": "stream",
     "text": [
      "After adding yellow: {'blue', 'red', 'yellow', 'green'}\n"
     ]
    }
   ],
   "source": [
    "# 2. Add Element\n",
    "colors.add(\"yellow\")\n",
    "print(\"After adding yellow:\", colors)"
   ]
  },
  {
   "cell_type": "code",
   "execution_count": 13,
   "id": "0eed6be6",
   "metadata": {},
   "outputs": [
    {
     "name": "stdout",
     "output_type": "stream",
     "text": [
      "After removing green: {'blue', 'red', 'yellow'}\n"
     ]
    }
   ],
   "source": [
    "# 3. Remove Element\n",
    "colors.remove(\"green\")\n",
    "print(\"After removing green:\", colors)"
   ]
  },
  {
   "cell_type": "code",
   "execution_count": 14,
   "id": "edb107a6",
   "metadata": {},
   "outputs": [
    {
     "name": "stdout",
     "output_type": "stream",
     "text": [
      "Is 'blue' in the set?: True\n"
     ]
    }
   ],
   "source": [
    "# 4. Check Membership\n",
    "is_blue_in_set = \"blue\" in colors\n",
    "print(\"Is 'blue' in the set?:\", is_blue_in_set)"
   ]
  },
  {
   "cell_type": "code",
   "execution_count": 15,
   "id": "6bb1d9a2",
   "metadata": {},
   "outputs": [
    {
     "name": "stdout",
     "output_type": "stream",
     "text": [
      "Union of sets: {1, 2, 3, 4, 5}\n"
     ]
    }
   ],
   "source": [
    "# 5. Union of Sets\n",
    "set1 = {1, 2, 3}\n",
    "set2 = {3, 4, 5}\n",
    "union_set = set1.union(set2)\n",
    "print(\"Union of sets:\", union_set)"
   ]
  },
  {
   "cell_type": "code",
   "execution_count": 16,
   "id": "8f1e3972",
   "metadata": {},
   "outputs": [
    {
     "name": "stdout",
     "output_type": "stream",
     "text": [
      "Intersection of sets: {3}\n"
     ]
    }
   ],
   "source": [
    "# 6. Intersection of Sets\n",
    "intersection_set = set1.intersection(set2)\n",
    "print(\"Intersection of sets:\", intersection_set)\n"
   ]
  },
  {
   "cell_type": "code",
   "execution_count": 17,
   "id": "11cd9aa4",
   "metadata": {},
   "outputs": [
    {
     "name": "stdout",
     "output_type": "stream",
     "text": [
      "Difference of sets (set1 - set2): {1, 2}\n"
     ]
    }
   ],
   "source": [
    "# 7. Difference of Sets\n",
    "difference_set = set1.difference(set2)\n",
    "print(\"Difference of sets (set1 - set2):\", difference_set)"
   ]
  },
  {
   "cell_type": "code",
   "execution_count": 18,
   "id": "4ff7c6b3",
   "metadata": {},
   "outputs": [
    {
     "name": "stdout",
     "output_type": "stream",
     "text": [
      "Length of the set {1, 2, 3, 4, 5}: 5\n"
     ]
    }
   ],
   "source": [
    "# 8. Set Length\n",
    "length_of_set = len({1, 2, 3, 4, 5})\n",
    "print(\"Length of the set {1, 2, 3, 4, 5}:\", length_of_set)"
   ]
  },
  {
   "cell_type": "code",
   "execution_count": 19,
   "id": "e42e7892",
   "metadata": {},
   "outputs": [
    {
     "name": "stdout",
     "output_type": "stream",
     "text": [
      "Is {1, 2} a subset of {1, 2, 3, 4}?: True\n",
      "Is {1, 2, 3, 4} a superset of {1, 2}?: True\n"
     ]
    }
   ],
   "source": [
    "# 9. Set Operations\n",
    "subset_check = {1, 2}.issubset({1, 2, 3, 4})\n",
    "superset_check = {1, 2, 3, 4}.issuperset({1, 2})\n",
    "print(\"Is {1, 2} a subset of {1, 2, 3, 4}?:\", subset_check)\n",
    "print(\"Is {1, 2, 3, 4} a superset of {1, 2}?:\", superset_check)\n"
   ]
  },
  {
   "cell_type": "code",
   "execution_count": 20,
   "id": "925c9113",
   "metadata": {},
   "outputs": [
    {
     "name": "stdout",
     "output_type": "stream",
     "text": [
      "Set after removing duplicates: {1, 2, 3, 4}\n"
     ]
    }
   ],
   "source": [
    "# 10. Convert List to Set\n",
    "list_with_duplicates = [1, 2, 2, 3, 4, 4]\n",
    "unique_set = set(list_with_duplicates)\n",
    "print(\"Set after removing duplicates:\", unique_set)\n"
   ]
  }
 ],
 "metadata": {
  "kernelspec": {
   "display_name": "Python 3 (ipykernel)",
   "language": "python",
   "name": "python3"
  },
  "language_info": {
   "codemirror_mode": {
    "name": "ipython",
    "version": 3
   },
   "file_extension": ".py",
   "mimetype": "text/x-python",
   "name": "python",
   "nbconvert_exporter": "python",
   "pygments_lexer": "ipython3",
   "version": "3.9.13"
  }
 },
 "nbformat": 4,
 "nbformat_minor": 5
}
